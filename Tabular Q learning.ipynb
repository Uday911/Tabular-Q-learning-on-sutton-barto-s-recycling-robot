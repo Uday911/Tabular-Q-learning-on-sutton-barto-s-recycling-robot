{
 "cells": [
  {
   "cell_type": "markdown",
   "metadata": {},
   "source": [
    "# Garbage Collecting robot"
   ]
  },
  {
   "cell_type": "code",
   "execution_count": 133,
   "metadata": {},
   "outputs": [],
   "source": [
    "import numpy as np\n",
    "from IPython.display import clear_output\n",
    "import matplotlib.pyplot as plt\n",
    "import seaborn as sns\n",
    "import random"
   ]
  },
  {
   "cell_type": "markdown",
   "metadata": {},
   "source": [
    "## &&&&&&&&&&&&&&&&&&&&&&&&&&&&&&&&&&&&&&&&&&&&&&&&&&&&&\n",
    "#### High >> Search >> High(70%) & Low(30%) >> Reward 1.0\n",
    "#### High >> Wait >> High(100%) >> Reward 0.0\n",
    "#### High >> Recharge >> High(100%) >> Reward 0.0\n",
    "#### Low >> Search >> High(80% with battery depletion & Reward -3.0) & Low(20% & Reward 1.0)\n",
    "#### Low >> Wait >> Low(100%) >> Reward 0.0\n",
    "#### Low >> Recharge >> High(100%) >> Reward 0.0\n",
    "## &&&&&&&&&&&&&&&&&&&&&&&&&&&&&&&&&&&&&&&&&&&&&&&&&&&&&"
   ]
  },
  {
   "cell_type": "code",
   "execution_count": null,
   "metadata": {},
   "outputs": [],
   "source": []
  },
  {
   "cell_type": "markdown",
   "metadata": {},
   "source": [
    "#### Battery recharge at low state has zero reward so its difficult to co-relate it with higher future reward with state being high and searching garbage"
   ]
  },
  {
   "cell_type": "code",
   "execution_count": null,
   "metadata": {},
   "outputs": [],
   "source": []
  },
  {
   "cell_type": "code",
   "execution_count": null,
   "metadata": {},
   "outputs": [],
   "source": []
  },
  {
   "cell_type": "code",
   "execution_count": 145,
   "metadata": {},
   "outputs": [],
   "source": [
    "class Environment(object):\n",
    "    import random as random\n",
    "    import numpy as np\n",
    "    def __init__(self):\n",
    "        self.states = ['high','low']\n",
    "        self.r_srch = 1.0\n",
    "        self.r_wait = 0.0\n",
    "        self.r_rechrg = -3\n",
    "        self.actions = ['search','wait','recharge']\n",
    "        self.alpha = 0.7\n",
    "        self.beta = 0.8\n",
    "        self.current_state = 'high'\n",
    "    def act(self,action,random=random):\n",
    "        if action == self.actions[0]:\n",
    "            if self.current_state == self.states[0]:\n",
    "                self.current_state = np.random.choice(self.states,p=[self.alpha,1-self.alpha])\n",
    "                return self.current_state,self.r_srch\n",
    "\n",
    "            elif self.current_state == self.states[1]:\n",
    "                self.current_state = np.random.choice(self.states,p=[self.beta,1-self.beta])\n",
    "                if self.current_state == self.states[0]:\n",
    "                    return self.current_state,self.r_rechrg\n",
    "                elif self.current_state == self.states[1]:\n",
    "                    return self.current_state,self.r_srch\n",
    "                \n",
    "        elif action == self.actions[1]:\n",
    "            if self.current_state == self.states[0]:\n",
    "                return self.current_state,self.r_wait\n",
    "            elif self.current_state == self.states[1]:\n",
    "                return self.current_state,self.r_wait\n",
    "            \n",
    "        \n",
    "        elif action == self.actions[2]:\n",
    "            if self.current_state == self.states[0]:\n",
    "                return self.current_state,0\n",
    "            elif self.current_state == self.states[1]:\n",
    "                self.current_state = self.states[0]\n",
    "                return self.current_state,0"
   ]
  },
  {
   "cell_type": "code",
   "execution_count": 146,
   "metadata": {},
   "outputs": [],
   "source": [
    "env = Environment()"
   ]
  },
  {
   "cell_type": "markdown",
   "metadata": {},
   "source": [
    "## Robot behaviour with no optimal policy"
   ]
  },
  {
   "cell_type": "code",
   "execution_count": 147,
   "metadata": {},
   "outputs": [],
   "source": [
    "curr_state = []\n",
    "actions = []\n",
    "next_states = []\n",
    "rewards = []\n",
    "avg_reward = []\n",
    "for i in range(20):\n",
    "    state = env.current_state\n",
    "    curr_state.append(state)\n",
    "    action = random.choice(env.actions)\n",
    "    actions.append(action)\n",
    "    nxt_state,reward = env.act(action)\n",
    "    next_states.append(nxt_state)\n",
    "    rewards.append(reward)\n",
    "    avg_reward.append(np.mean(rewards))\n",
    "data = list(zip(curr_state,actions,next_states,rewards))"
   ]
  },
  {
   "cell_type": "code",
   "execution_count": 148,
   "metadata": {},
   "outputs": [
    {
     "data": {
      "text/plain": [
       "[('high', 'search', 'low', 1.0),\n",
       " ('low', 'wait', 'low', 0.0),\n",
       " ('low', 'search', 'high', -3),\n",
       " ('high', 'search', 'low', 1.0),\n",
       " ('low', 'search', 'high', -3),\n",
       " ('high', 'search', 'high', 1.0),\n",
       " ('high', 'search', 'high', 1.0),\n",
       " ('high', 'recharge', 'high', 0),\n",
       " ('high', 'search', 'low', 1.0),\n",
       " ('low', 'wait', 'low', 0.0),\n",
       " ('low', 'recharge', 'high', 0),\n",
       " ('high', 'search', 'low', 1.0),\n",
       " ('low', 'wait', 'low', 0.0),\n",
       " ('low', 'wait', 'low', 0.0),\n",
       " ('low', 'search', 'high', -3),\n",
       " ('high', 'search', 'low', 1.0),\n",
       " ('low', 'wait', 'low', 0.0),\n",
       " ('low', 'wait', 'low', 0.0),\n",
       " ('low', 'recharge', 'high', 0),\n",
       " ('high', 'search', 'high', 1.0)]"
      ]
     },
     "execution_count": 148,
     "metadata": {},
     "output_type": "execute_result"
    }
   ],
   "source": [
    "data"
   ]
  },
  {
   "cell_type": "markdown",
   "metadata": {},
   "source": [
    "# Formula for Q learning"
   ]
  },
  {
   "cell_type": "markdown",
   "metadata": {},
   "source": [
    "### Q(S,A)= Q(S,A)+α∗(γ∗maxaQ(S′,a)− Q(S,A))"
   ]
  },
  {
   "cell_type": "code",
   "execution_count": 149,
   "metadata": {},
   "outputs": [],
   "source": [
    "import pandas as pd\n",
    "\n",
    "from IPython.display import clear_output\n",
    "from IPython.core.interactiveshell import InteractiveShell\n",
    "InteractiveShell.ast_node_interactivity = \"all\"\n",
    "import time"
   ]
  },
  {
   "cell_type": "code",
   "execution_count": 150,
   "metadata": {},
   "outputs": [],
   "source": [
    "q_table = {}\n",
    "for i in env.states:\n",
    "    for j in env.actions:\n",
    "        q_table[(i,j)] = 0\n",
    "qt = pd.DataFrame(columns=['high','low'],index=['search','wait','recharge']).fillna(0)"
   ]
  },
  {
   "cell_type": "code",
   "execution_count": 151,
   "metadata": {},
   "outputs": [
    {
     "data": {
      "text/html": [
       "<div>\n",
       "<style scoped>\n",
       "    .dataframe tbody tr th:only-of-type {\n",
       "        vertical-align: middle;\n",
       "    }\n",
       "\n",
       "    .dataframe tbody tr th {\n",
       "        vertical-align: top;\n",
       "    }\n",
       "\n",
       "    .dataframe thead th {\n",
       "        text-align: right;\n",
       "    }\n",
       "</style>\n",
       "<table border=\"1\" class=\"dataframe\">\n",
       "  <thead>\n",
       "    <tr style=\"text-align: right;\">\n",
       "      <th></th>\n",
       "      <th>high</th>\n",
       "      <th>low</th>\n",
       "    </tr>\n",
       "  </thead>\n",
       "  <tbody>\n",
       "    <tr>\n",
       "      <th>search</th>\n",
       "      <td>0</td>\n",
       "      <td>0</td>\n",
       "    </tr>\n",
       "    <tr>\n",
       "      <th>wait</th>\n",
       "      <td>0</td>\n",
       "      <td>0</td>\n",
       "    </tr>\n",
       "    <tr>\n",
       "      <th>recharge</th>\n",
       "      <td>0</td>\n",
       "      <td>0</td>\n",
       "    </tr>\n",
       "  </tbody>\n",
       "</table>\n",
       "</div>"
      ],
      "text/plain": [
       "          high  low\n",
       "search       0    0\n",
       "wait         0    0\n",
       "recharge     0    0"
      ]
     },
     "execution_count": 151,
     "metadata": {},
     "output_type": "execute_result"
    }
   ],
   "source": [
    "qt"
   ]
  },
  {
   "cell_type": "code",
   "execution_count": 152,
   "metadata": {},
   "outputs": [
    {
     "data": {
      "text/html": [
       "<div>\n",
       "<style scoped>\n",
       "    .dataframe tbody tr th:only-of-type {\n",
       "        vertical-align: middle;\n",
       "    }\n",
       "\n",
       "    .dataframe tbody tr th {\n",
       "        vertical-align: top;\n",
       "    }\n",
       "\n",
       "    .dataframe thead th {\n",
       "        text-align: right;\n",
       "    }\n",
       "</style>\n",
       "<table border=\"1\" class=\"dataframe\">\n",
       "  <thead>\n",
       "    <tr style=\"text-align: right;\">\n",
       "      <th></th>\n",
       "      <th>high</th>\n",
       "      <th>low</th>\n",
       "    </tr>\n",
       "  </thead>\n",
       "  <tbody>\n",
       "    <tr>\n",
       "      <th>search</th>\n",
       "      <td>64</td>\n",
       "      <td>0</td>\n",
       "    </tr>\n",
       "    <tr>\n",
       "      <th>wait</th>\n",
       "      <td>30</td>\n",
       "      <td>2</td>\n",
       "    </tr>\n",
       "    <tr>\n",
       "      <th>recharge</th>\n",
       "      <td>32</td>\n",
       "      <td>48</td>\n",
       "    </tr>\n",
       "  </tbody>\n",
       "</table>\n",
       "</div>"
      ],
      "text/plain": [
       "          high  low\n",
       "search      64    0\n",
       "wait        30    2\n",
       "recharge    32   48"
      ]
     },
     "execution_count": 152,
     "metadata": {},
     "output_type": "execute_result"
    }
   ],
   "source": [
    "qt\n",
    "time.sleep(3)\n",
    "clear_output(wait=True)\n",
    "avg_ep_reward = []\n",
    "epsilon = 1\n",
    "for l in range(10):\n",
    "    curr_state = []\n",
    "    actions = []\n",
    "    next_states = []\n",
    "    rewards = []\n",
    "    avg_reward = []\n",
    "    episode_len = 20\n",
    "#     epsilon = 0.01\n",
    "    if l%1 ==0:\n",
    "        epsilon -= 0.1\n",
    "    alpha = 0.1\n",
    "    states_visit = {'high':0,'low':0}\n",
    "    for i in range(episode_len):\n",
    "        state = env.current_state\n",
    "        curr_state.append(state)\n",
    "        if epsilon > random.random():\n",
    "            action = random.choice(env.actions)\n",
    "        else:\n",
    "#             action = \n",
    "            action = [i[1] for i,j in q_table.items() if (i[0] == state)&(j == max([j for i,j in q_table.items() if i[0] == state]))][0]\n",
    "\n",
    "        actions.append(action)\n",
    "        nxt_state,reward = env.act(action)\n",
    "        next_states.append(nxt_state)\n",
    "        rewards.append(reward)\n",
    "        avg_reward.append(np.mean(rewards))\n",
    "        q_table[(state,action)] += reward\n",
    "        states_visit[state] += 1\n",
    "        data = list(zip(curr_state,actions,next_states,rewards))\n",
    "        \n",
    "        \n",
    "    total_episode_reward = sum(rewards)\n",
    "    for l,m,n,o in data:\n",
    "        q_table[(l,m)] = q_table[(l,m)] + alpha * (max([j for i,j in q_table.items() if i[0] == n]) - q_table[(l,m)])\n",
    "#         + alpha**2 * (max([j for i,j in q_table.items() if i[0] == state]) - q_table[(state,action)])\n",
    "        #         q_table[(state,action)] = reward + alpha * (max([j for i,j in q_table.items() if i[0] == nxt_state]) - q_table[(state,action)])\n",
    "    avg_ep_reward.append(np.sum(rewards))\n",
    "    qt.loc['search']['high'] = q_table[('high', 'search')]\n",
    "    qt.loc['search']['low'] = q_table[('low', 'search')]\n",
    "    qt.loc['wait']['high'] = q_table[('high', 'wait')]\n",
    "    qt.loc['wait']['low'] = q_table[('low', 'wait')]\n",
    "    qt.loc['recharge']['high'] = q_table[('high', 'recharge')]\n",
    "    qt.loc['recharge']['low'] = q_table[('low', 'recharge')]\n",
    "    qt\n",
    "    time.sleep(2)\n",
    "    clear_output(wait=True)\n",
    "#     print(q_table)"
   ]
  },
  {
   "cell_type": "code",
   "execution_count": null,
   "metadata": {},
   "outputs": [],
   "source": []
  },
  {
   "cell_type": "markdown",
   "metadata": {},
   "source": [
    "### Optimal policy found by robot"
   ]
  },
  {
   "cell_type": "code",
   "execution_count": 153,
   "metadata": {},
   "outputs": [],
   "source": [
    "curr_state = []\n",
    "actions = []\n",
    "next_states = []\n",
    "rewards = []\n",
    "avg_reward = []\n",
    "env = Environment()\n",
    "for i in range(episode_len):\n",
    "    state = env.current_state\n",
    "    curr_state.append(state)\n",
    "    action = [i[1] for i,j in q_table.items() if (i[0] == state)&(j == max([j for i,j in q_table.items() if i[0] == state]))][0]\n",
    "    actions.append(action)\n",
    "    nxt_state,reward = env.act(action)\n",
    "    next_states.append(nxt_state)\n",
    "    rewards.append(reward)\n",
    "    avg_reward.append(np.mean(rewards))\n",
    "    data = list(zip(curr_state,actions,next_states,rewards))"
   ]
  },
  {
   "cell_type": "code",
   "execution_count": 154,
   "metadata": {},
   "outputs": [
    {
     "name": "stdout",
     "output_type": "stream",
     "text": [
      "Optimal Policy\n"
     ]
    },
    {
     "data": {
      "text/plain": [
       "[('high', 'search', 'high', 1.0),\n",
       " ('high', 'search', 'high', 1.0),\n",
       " ('high', 'search', 'high', 1.0),\n",
       " ('high', 'search', 'low', 1.0),\n",
       " ('low', 'recharge', 'high', 0),\n",
       " ('high', 'search', 'high', 1.0),\n",
       " ('high', 'search', 'high', 1.0),\n",
       " ('high', 'search', 'low', 1.0),\n",
       " ('low', 'recharge', 'high', 0),\n",
       " ('high', 'search', 'high', 1.0),\n",
       " ('high', 'search', 'low', 1.0),\n",
       " ('low', 'recharge', 'high', 0),\n",
       " ('high', 'search', 'high', 1.0),\n",
       " ('high', 'search', 'high', 1.0),\n",
       " ('high', 'search', 'high', 1.0),\n",
       " ('high', 'search', 'high', 1.0),\n",
       " ('high', 'search', 'high', 1.0),\n",
       " ('high', 'search', 'low', 1.0),\n",
       " ('low', 'recharge', 'high', 0),\n",
       " ('high', 'search', 'high', 1.0)]"
      ]
     },
     "execution_count": 154,
     "metadata": {},
     "output_type": "execute_result"
    }
   ],
   "source": [
    "print('Optimal Policy')\n",
    "data"
   ]
  },
  {
   "cell_type": "code",
   "execution_count": 155,
   "metadata": {},
   "outputs": [
    {
     "data": {
      "text/plain": [
       "[<matplotlib.lines.Line2D at 0x7fadaa0e9da0>]"
      ]
     },
     "execution_count": 155,
     "metadata": {},
     "output_type": "execute_result"
    },
    {
     "data": {
      "text/plain": [
       "Text(0.5,0,'Episodes')"
      ]
     },
     "execution_count": 155,
     "metadata": {},
     "output_type": "execute_result"
    },
    {
     "data": {
      "text/plain": [
       "Text(0,0.5,'Average Reward per episode')"
      ]
     },
     "execution_count": 155,
     "metadata": {},
     "output_type": "execute_result"
    },
    {
     "data": {
      "text/plain": [
       "Text(0.5,1,'Reward recieved by Robot over episodes')"
      ]
     },
     "execution_count": 155,
     "metadata": {},
     "output_type": "execute_result"
    },
    {
     "name": "stdout",
     "output_type": "stream",
     "text": [
      "Each Episode consists of 20 transactions\n"
     ]
    },
    {
     "data": {
      "image/png": "[encoded data removed]",
      "text/plain": [
       "<Figure size 432x288 with 1 Axes>"
      ]
     },
     "metadata": {},
     "output_type": "display_data"
    }
   ],
   "source": [
    "plt.plot(avg_ep_reward)\n",
    "plt.xlabel('Episodes')\n",
    "plt.ylabel('Average Reward per episode')\n",
    "plt.title('Reward recieved by Robot over episodes')\n",
    "print(\"Each Episode consists of 20 transactions\")"
   ]
  },
  {
   "cell_type": "code",
   "execution_count": null,
   "metadata": {},
   "outputs": [],
   "source": []
  }
 ],
 "metadata": {
  "kernelspec": {
   "display_name": "Python 3",
   "language": "python",
   "name": "python3"
  },
  "language_info": {
   "codemirror_mode": {
    "name": "ipython",
    "version": 3
   },
   "file_extension": ".py",
   "mimetype": "text/x-python",
   "name": "python",
   "nbconvert_exporter": "python",
   "pygments_lexer": "ipython3",
   "version": "3.6.8"
  }
 },
 "nbformat": 4,
 "nbformat_minor": 2
}
